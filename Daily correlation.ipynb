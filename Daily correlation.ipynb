{
 "cells": [
  {
   "cell_type": "markdown",
   "metadata": {},
   "source": [
    "# import and data loading"
   ]
  },
  {
   "cell_type": "code",
   "execution_count": 1,
   "metadata": {
    "collapsed": false
   },
   "outputs": [
    {
     "data": {
      "text/html": [
       "<div>\n",
       "<table border=\"1\" class=\"dataframe\">\n",
       "  <thead>\n",
       "    <tr style=\"text-align: right;\">\n",
       "      <th></th>\n",
       "      <th>Open</th>\n",
       "      <th>High</th>\n",
       "      <th>Low</th>\n",
       "      <th>Close</th>\n",
       "      <th>Volume</th>\n",
       "      <th>Adj Close</th>\n",
       "      <th>delta</th>\n",
       "    </tr>\n",
       "    <tr>\n",
       "      <th>Date</th>\n",
       "      <th></th>\n",
       "      <th></th>\n",
       "      <th></th>\n",
       "      <th></th>\n",
       "      <th></th>\n",
       "      <th></th>\n",
       "      <th></th>\n",
       "    </tr>\n",
       "  </thead>\n",
       "  <tbody>\n",
       "    <tr>\n",
       "      <th>2000-01-03</th>\n",
       "      <td>6024.379883</td>\n",
       "      <td>6102.120117</td>\n",
       "      <td>5901.770020</td>\n",
       "      <td>5917.370117</td>\n",
       "      <td>0</td>\n",
       "      <td>5917.370117</td>\n",
       "      <td>-107.009766</td>\n",
       "    </tr>\n",
       "    <tr>\n",
       "      <th>2000-01-04</th>\n",
       "      <td>5922.229980</td>\n",
       "      <td>5925.069824</td>\n",
       "      <td>5657.200195</td>\n",
       "      <td>5672.020020</td>\n",
       "      <td>0</td>\n",
       "      <td>5672.020020</td>\n",
       "      <td>-250.209960</td>\n",
       "    </tr>\n",
       "    <tr>\n",
       "      <th>2000-01-05</th>\n",
       "      <td>5521.830078</td>\n",
       "      <td>5589.500000</td>\n",
       "      <td>5461.589844</td>\n",
       "      <td>5479.700195</td>\n",
       "      <td>0</td>\n",
       "      <td>5479.700195</td>\n",
       "      <td>-42.129883</td>\n",
       "    </tr>\n",
       "    <tr>\n",
       "      <th>2000-01-06</th>\n",
       "      <td>5485.930176</td>\n",
       "      <td>5530.259766</td>\n",
       "      <td>5388.850098</td>\n",
       "      <td>5450.109863</td>\n",
       "      <td>0</td>\n",
       "      <td>5450.109863</td>\n",
       "      <td>-35.820313</td>\n",
       "    </tr>\n",
       "    <tr>\n",
       "      <th>2000-01-07</th>\n",
       "      <td>5423.879883</td>\n",
       "      <td>5561.689941</td>\n",
       "      <td>5423.879883</td>\n",
       "      <td>5539.609863</td>\n",
       "      <td>0</td>\n",
       "      <td>5539.609863</td>\n",
       "      <td>115.729980</td>\n",
       "    </tr>\n",
       "  </tbody>\n",
       "</table>\n",
       "</div>"
      ],
      "text/plain": [
       "                   Open         High          Low        Close  Volume  \\\n",
       "Date                                                                     \n",
       "2000-01-03  6024.379883  6102.120117  5901.770020  5917.370117       0   \n",
       "2000-01-04  5922.229980  5925.069824  5657.200195  5672.020020       0   \n",
       "2000-01-05  5521.830078  5589.500000  5461.589844  5479.700195       0   \n",
       "2000-01-06  5485.930176  5530.259766  5388.850098  5450.109863       0   \n",
       "2000-01-07  5423.879883  5561.689941  5423.879883  5539.609863       0   \n",
       "\n",
       "              Adj Close       delta  \n",
       "Date                                 \n",
       "2000-01-03  5917.370117 -107.009766  \n",
       "2000-01-04  5672.020020 -250.209960  \n",
       "2000-01-05  5479.700195  -42.129883  \n",
       "2000-01-06  5450.109863  -35.820313  \n",
       "2000-01-07  5539.609863  115.729980  "
      ]
     },
     "execution_count": 1,
     "metadata": {},
     "output_type": "execute_result"
    }
   ],
   "source": [
    "import datetime\n",
    "import pandas as pd\n",
    "import numpy as np\n",
    "import matplotlib.pyplot as plt\n",
    "%matplotlib inline\n",
    "\n",
    "from pandas_datareader import data, wb\n",
    "\n",
    "start = datetime.datetime(2000, 1, 1)\n",
    "end = datetime.datetime(2017, 1, 1)\n",
    "\n",
    "cac = data.DataReader(\"^FCHI\", 'yahoo', start, end)\n",
    "dax = data.DataReader(\"^GDAXI\", 'yahoo', start, end)\n",
    "\n",
    "cac['delta'] = cac['Close']-cac['Open']\n",
    "cac.head()"
   ]
  },
  {
   "cell_type": "code",
   "execution_count": null,
   "metadata": {
    "collapsed": true
   },
   "outputs": [],
   "source": []
  }
 ],
 "metadata": {
  "kernelspec": {
   "display_name": "Python 3",
   "language": "python",
   "name": "python3"
  },
  "language_info": {
   "codemirror_mode": {
    "name": "ipython",
    "version": 3
   },
   "file_extension": ".py",
   "mimetype": "text/x-python",
   "name": "python",
   "nbconvert_exporter": "python",
   "pygments_lexer": "ipython3",
   "version": "3.5.1"
  }
 },
 "nbformat": 4,
 "nbformat_minor": 0
}
